{
  "cells": [
    {
      "cell_type": "markdown",
      "source": [
        "# **Persiapan**\n",
        "Import Library"
      ],
      "metadata": {
        "id": "KW3HOQqW7Rxz"
      }
    },
    {
      "cell_type": "code",
      "source": [
        "import pandas as pd\n",
        "import numpy as np\n",
        "import statsmodels.api as sm\n",
        "import matplotlib.pyplot as plt\n",
        "import seaborn as sns\n",
        "from scipy import stats"
      ],
      "metadata": {
        "id": "AqkQu0RF7V5Z"
      },
      "execution_count": 4,
      "outputs": []
    },
    {
      "cell_type": "markdown",
      "source": [
        "Import Data dalam Format CSV"
      ],
      "metadata": {
        "id": "yqjo0S5h7Zrb"
      }
    },
    {
      "cell_type": "code",
      "source": [
        "# Membaca data CSV\n",
        "data = pd.read_csv('Emisi.csv')\n",
        "# Melihat 5 data pertama\n",
        "print(data.head())"
      ],
      "metadata": {
        "colab": {
          "base_uri": "https://localhost:8080/"
        },
        "id": "91gkspWj7dUI",
        "outputId": "37d91219-2eba-47ba-8337-d39a2cd52525"
      },
      "execution_count": 5,
      "outputs": [
        {
          "output_type": "stream",
          "name": "stdout",
          "text": [
            "   Ville (L/100 km)  Route (L/100 km)  kombinasi (L/100 km)  Emisi CO2 (g/km)\n",
            "0               8.1               6.5                   7.4               172\n",
            "1               8.9               6.5                   7.8               181\n",
            "2              11.1               8.3                   9.9               230\n",
            "3              12.6               9.4                  11.2               263\n",
            "4              13.8              11.2                  12.4               291\n"
          ]
        }
      ]
    },
    {
      "cell_type": "markdown",
      "source": [
        "Menggunakan pandas untuk membaca file CSV \"Emisi.csv\" dan menampilkan lima baris pertama. Data ini menunjukkan konsumsi bahan bakar dalam tiga kondisi berbeda (Ville, Route, dan Combined), serta emisi CO2 (g/km). Output menunjukkan nilai konsumsi bahan bakar dalam liter per 100 km dan emisi karbon dioksida dalam gram per km."
      ],
      "metadata": {
        "id": "wEs5ib438PtN"
      }
    },
    {
      "cell_type": "code",
      "source": [
        "data.rename(columns={'Ville (L/100 km)': 'X', 'Emisi CO2 (g/km)': 'Y' }, inplace=True)\n",
        "print(data)"
      ],
      "metadata": {
        "colab": {
          "base_uri": "https://localhost:8080/"
        },
        "id": "HYtC8-uE8V8M",
        "outputId": "7a52d432-b956-4610-81f2-abc7d2c2f6de"
      },
      "execution_count": 6,
      "outputs": [
        {
          "output_type": "stream",
          "name": "stdout",
          "text": [
            "        X  Route (L/100 km)  kombinasi (L/100 km)    Y\n",
            "0     8.1               6.5                   7.4  172\n",
            "1     8.9               6.5                   7.8  181\n",
            "2    11.1               8.3                   9.9  230\n",
            "3    12.6               9.4                  11.2  263\n",
            "4    13.8              11.2                  12.4  291\n",
            "..    ...               ...                   ...  ...\n",
            "637   9.7               7.5                   8.7  205\n",
            "638  10.7               8.1                   9.5  223\n",
            "639  10.1               7.8                   9.1  213\n",
            "640  10.0               7.8                   9.0  212\n",
            "641  11.5               9.0                  10.4  244\n",
            "\n",
            "[642 rows x 4 columns]\n"
          ]
        }
      ]
    },
    {
      "cell_type": "markdown",
      "source": [
        "Sederhananya, gunakan data.rename() untuk mengubah variabel \"Ville (L/100 km)\" menjadi variabel \"X\" dan \"Emisi CO2 (g/km)\" menjadi variabel \"Y\". Perubahan ini dilakukan langsung pada dataset dengan inplace=True, sehingga tidak perlu membuat variabel baru, sehingga dataset memiliki kolom yang lebih sederhana yang dapat digunakan untuk analisis lebih lanjut."
      ],
      "metadata": {
        "id": "OGVk47b58fd2"
      }
    },
    {
      "cell_type": "markdown",
      "source": [
        "# **Analisis**\n",
        "Menghitung Matriks Korelasi"
      ],
      "metadata": {
        "id": "f3pGMeIf9Aza"
      }
    },
    {
      "cell_type": "code",
      "source": [
        "# Menghitung matriks korelasi\n",
        "correlation_matrix = data.corr()\n",
        "print(correlation_matrix)"
      ],
      "metadata": {
        "colab": {
          "base_uri": "https://localhost:8080/"
        },
        "id": "r73hJpSi9Fjw",
        "outputId": "97830dae-d52a-478c-8d03-b0dc056e333d"
      },
      "execution_count": 8,
      "outputs": [
        {
          "output_type": "stream",
          "name": "stdout",
          "text": [
            "                             X  Route (L/100 km)  kombinasi (L/100 km)  \\\n",
            "X                     1.000000          0.909671              0.986990   \n",
            "Route (L/100 km)      0.909671          1.000000              0.961539   \n",
            "kombinasi (L/100 km)  0.986990          0.961539              1.000000   \n",
            "Y                     0.975617          0.951061              0.988786   \n",
            "\n",
            "                             Y  \n",
            "X                     0.975617  \n",
            "Route (L/100 km)      0.951061  \n",
            "kombinasi (L/100 km)  0.988786  \n",
            "Y                     1.000000  \n"
          ]
        }
      ]
    },
    {
      "cell_type": "markdown",
      "source": [
        "Matriks  Dataset ini dapat dikorelasi dengan menggunakan fungsi data.corr(), yang menunjukkan hubungan linear antar variabel.  Nilai korelasi berkisar antara -1 dan 1, dengan nilai yang lebih tinggi menunjukkan korelasi yang kuat dengan sifat positif dan nilai yang lebih rendah menunjukkan korelasi yang kuat dengan sifat negatif.  Output menunjukkan bahwa X (konsumsi di kota), Route (konsumsi di jalan raya), dan Kombinasi sangat berkorelasi dengan Y (emisi karbon dioksida)."
      ],
      "metadata": {
        "id": "mSkgU7KSew7a"
      }
    },
    {
      "cell_type": "markdown",
      "source": [
        "Membuat matriks korelasi"
      ],
      "metadata": {
        "id": "SpeGPkHIuG3K"
      }
    },
    {
      "cell_type": "code",
      "source": [
        "# Membuat mask untuk upper triangle\n",
        "mask = np.triu(np.ones_like(correlation_matrix, dtype=bool))\n",
        "\n",
        "# Membuat heatmap tanpa upper triangle\n",
        "plt.figure(figsize=(10, 8))\n",
        "sns.heatmap(correlation_matrix, mask=mask, annot=True, cmap='coolwarm', linewidths=0.5)\n",
        "plt.title('Correlation Plot (Tanpa Upper Triangle)')\n",
        "plt.show()"
      ],
      "metadata": {
        "id": "fdP5mAOHuN7P",
        "outputId": "50921991-f695-4110-a30e-d73d99d941b9",
        "colab": {
          "base_uri": "https://localhost:8080/",
          "height": 699
        }
      },
      "execution_count": 9,
      "outputs": [
        {
          "output_type": "display_data",
          "data": {
            "text/plain": [
              "<Figure size 1000x800 with 2 Axes>"
            ],
            "image/png": "[encoded data removed]"
          },
          "metadata": {}
        }
      ]
    },
    {
      "cell_type": "markdown",
      "source": [
        "Untuk menunjukkan korelasi antar variabel dalam dataset, kode tersebut menampilkan heatmap, tetapi mask hanya menampilkan lower triangle."
      ],
      "metadata": {
        "id": "-toBqH7Ouk15"
      }
    },
    {
      "cell_type": "markdown",
      "source": [
        "Membuat Model Regresi Sederhana"
      ],
      "metadata": {
        "id": "9fx0ja3DupJp"
      }
    },
    {
      "cell_type": "code",
      "source": [
        "# Plot scatterplot dengan regresi\n",
        "plt.figure(figsize=(8, 6))\n",
        "sns.regplot(x=\"X\", y=\"Y\", data=data, scatter_kws={\"alpha\": 0.5})"
      ],
      "metadata": {
        "id": "g16XMibXut_S",
        "outputId": "36662216-8d66-4760-ea04-1868297e7e0e",
        "colab": {
          "base_uri": "https://localhost:8080/",
          "height": 559
        }
      },
      "execution_count": 10,
      "outputs": [
        {
          "output_type": "execute_result",
          "data": {
            "text/plain": [
              "<Axes: xlabel='X', ylabel='Y'>"
            ]
          },
          "metadata": {},
          "execution_count": 10
        },
        {
          "output_type": "display_data",
          "data": {
            "text/plain": [
              "<Figure size 800x600 with 1 Axes>"
            ],
            "image/png": "[encoded data removed]"
          },
          "metadata": {}
        }
      ]
    },
    {
      "cell_type": "markdown",
      "source": [
        "Di sini, \"x\" berarti \"X\" dan \"y\" berarti \"Y\", yang menunjukkan plot yang menunjukkan hubungan antara konsumsi bahan bakar kota (X) dan emisi CO2 (Y). Garis regresi secara otomatis ditambahkan untuk menunjukkan tren hubungan linear antara kedua variabel. Oleh karena itu, dari plot ini, dapat dilihat bahwa x dan y sangat berkorelasi positif, dengan tingkat konsumsi bahan bakar"
      ],
      "metadata": {
        "id": "uJgDaeFyvLnP"
      }
    },
    {
      "cell_type": "markdown",
      "source": [
        "Membuat Model Regresi Sederhana #2"
      ],
      "metadata": {
        "id": "wjI84rhdvYDu"
      }
    },
    {
      "cell_type": "code",
      "source": [
        "from sklearn.linear_model import LinearRegression\n",
        "\n",
        "# Pisahkan variabel independen (X) dan dependen (Y)\n",
        "X = data[[\"X\"]]  # Perlu diubah ke bentuk 2D\n",
        "Y = data[\"Y\"]\n",
        "\n",
        "\n",
        "# Menambahkan konstanta ke model (intercept)\n",
        "X = sm.add_constant(X)"
      ],
      "metadata": {
        "id": "bvdt6g2avbxm"
      },
      "execution_count": 11,
      "outputs": []
    },
    {
      "cell_type": "code",
      "source": [
        "# Membuat model regresi linear\n",
        "model = sm.OLS(Y, X).fit()\n",
        "\n",
        "# Melihat ringkasan model\n",
        "model.summary()"
      ],
      "metadata": {
        "id": "y_smi9YMvrDB",
        "outputId": "fe19275e-ca02-47b8-edd0-dca6d911d2a0",
        "colab": {
          "base_uri": "https://localhost:8080/",
          "height": 451
        }
      },
      "execution_count": 12,
      "outputs": [
        {
          "output_type": "execute_result",
          "data": {
            "text/plain": [
              "<class 'statsmodels.iolib.summary.Summary'>\n",
              "\"\"\"\n",
              "                            OLS Regression Results                            \n",
              "==============================================================================\n",
              "Dep. Variable:                      Y   R-squared:                       0.952\n",
              "Model:                            OLS   Adj. R-squared:                  0.952\n",
              "Method:                 Least Squares   F-statistic:                 1.265e+04\n",
              "Date:                Mon, 10 Mar 2025   Prob (F-statistic):               0.00\n",
              "Time:                        06:29:52   Log-Likelihood:                -2618.3\n",
              "No. Observations:                 642   AIC:                             5241.\n",
              "Df Residuals:                     640   BIC:                             5250.\n",
              "Df Model:                           1                                         \n",
              "Covariance Type:            nonrobust                                         \n",
              "==============================================================================\n",
              "                 coef    std err          t      P>|t|      [0.025      0.975]\n",
              "------------------------------------------------------------------------------\n",
              "const         24.7691      2.096     11.815      0.000      20.652      28.886\n",
              "X             18.9382      0.168    112.454      0.000      18.608      19.269\n",
              "==============================================================================\n",
              "Omnibus:                      176.815   Durbin-Watson:                   1.308\n",
              "Prob(Omnibus):                  0.000   Jarque-Bera (JB):             8794.363\n",
              "Skew:                           0.308   Prob(JB):                         0.00\n",
              "Kurtosis:                      21.121   Cond. No.                         46.5\n",
              "==============================================================================\n",
              "\n",
              "Notes:\n",
              "[1] Standard Errors assume that the covariance matrix of the errors is correctly specified.\n",
              "\"\"\""
            ],
            "text/html": [
              "<table class=\"simpletable\">\n",
              "<caption>OLS Regression Results</caption>\n",
              "<tr>\n",
              "  <th>Dep. Variable:</th>            <td>Y</td>        <th>  R-squared:         </th> <td>   0.952</td> \n",
              "</tr>\n",
              "<tr>\n",
              "  <th>Model:</th>                   <td>OLS</td>       <th>  Adj. R-squared:    </th> <td>   0.952</td> \n",
              "</tr>\n",
              "<tr>\n",
              "  <th>Method:</th>             <td>Least Squares</td>  <th>  F-statistic:       </th> <td>1.265e+04</td>\n",
              "</tr>\n",
              "<tr>\n",
              "  <th>Date:</th>             <td>Mon, 10 Mar 2025</td> <th>  Prob (F-statistic):</th>  <td>  0.00</td>  \n",
              "</tr>\n",
              "<tr>\n",
              "  <th>Time:</th>                 <td>06:29:52</td>     <th>  Log-Likelihood:    </th> <td> -2618.3</td> \n",
              "</tr>\n",
              "<tr>\n",
              "  <th>No. Observations:</th>      <td>   642</td>      <th>  AIC:               </th> <td>   5241.</td> \n",
              "</tr>\n",
              "<tr>\n",
              "  <th>Df Residuals:</th>          <td>   640</td>      <th>  BIC:               </th> <td>   5250.</td> \n",
              "</tr>\n",
              "<tr>\n",
              "  <th>Df Model:</th>              <td>     1</td>      <th>                     </th>     <td> </td>    \n",
              "</tr>\n",
              "<tr>\n",
              "  <th>Covariance Type:</th>      <td>nonrobust</td>    <th>                     </th>     <td> </td>    \n",
              "</tr>\n",
              "</table>\n",
              "<table class=\"simpletable\">\n",
              "<tr>\n",
              "    <td></td>       <th>coef</th>     <th>std err</th>      <th>t</th>      <th>P>|t|</th>  <th>[0.025</th>    <th>0.975]</th>  \n",
              "</tr>\n",
              "<tr>\n",
              "  <th>const</th> <td>   24.7691</td> <td>    2.096</td> <td>   11.815</td> <td> 0.000</td> <td>   20.652</td> <td>   28.886</td>\n",
              "</tr>\n",
              "<tr>\n",
              "  <th>X</th>     <td>   18.9382</td> <td>    0.168</td> <td>  112.454</td> <td> 0.000</td> <td>   18.608</td> <td>   19.269</td>\n",
              "</tr>\n",
              "</table>\n",
              "<table class=\"simpletable\">\n",
              "<tr>\n",
              "  <th>Omnibus:</th>       <td>176.815</td> <th>  Durbin-Watson:     </th> <td>   1.308</td>\n",
              "</tr>\n",
              "<tr>\n",
              "  <th>Prob(Omnibus):</th> <td> 0.000</td>  <th>  Jarque-Bera (JB):  </th> <td>8794.363</td>\n",
              "</tr>\n",
              "<tr>\n",
              "  <th>Skew:</th>          <td> 0.308</td>  <th>  Prob(JB):          </th> <td>    0.00</td>\n",
              "</tr>\n",
              "<tr>\n",
              "  <th>Kurtosis:</th>      <td>21.121</td>  <th>  Cond. No.          </th> <td>    46.5</td>\n",
              "</tr>\n",
              "</table><br/><br/>Notes:<br/>[1] Standard Errors assume that the covariance matrix of the errors is correctly specified."
            ],
            "text/latex": "\\begin{center}\n\\begin{tabular}{lclc}\n\\toprule\n\\textbf{Dep. Variable:}    &        Y         & \\textbf{  R-squared:         } &     0.952   \\\\\n\\textbf{Model:}            &       OLS        & \\textbf{  Adj. R-squared:    } &     0.952   \\\\\n\\textbf{Method:}           &  Least Squares   & \\textbf{  F-statistic:       } & 1.265e+04   \\\\\n\\textbf{Date:}             & Mon, 10 Mar 2025 & \\textbf{  Prob (F-statistic):} &     0.00    \\\\\n\\textbf{Time:}             &     06:29:52     & \\textbf{  Log-Likelihood:    } &   -2618.3   \\\\\n\\textbf{No. Observations:} &         642      & \\textbf{  AIC:               } &     5241.   \\\\\n\\textbf{Df Residuals:}     &         640      & \\textbf{  BIC:               } &     5250.   \\\\\n\\textbf{Df Model:}         &           1      & \\textbf{                     } &             \\\\\n\\textbf{Covariance Type:}  &    nonrobust     & \\textbf{                     } &             \\\\\n\\bottomrule\n\\end{tabular}\n\\begin{tabular}{lcccccc}\n               & \\textbf{coef} & \\textbf{std err} & \\textbf{t} & \\textbf{P$> |$t$|$} & \\textbf{[0.025} & \\textbf{0.975]}  \\\\\n\\midrule\n\\textbf{const} &      24.7691  &        2.096     &    11.815  &         0.000        &       20.652    &       28.886     \\\\\n\\textbf{X}     &      18.9382  &        0.168     &   112.454  &         0.000        &       18.608    &       19.269     \\\\\n\\bottomrule\n\\end{tabular}\n\\begin{tabular}{lclc}\n\\textbf{Omnibus:}       & 176.815 & \\textbf{  Durbin-Watson:     } &    1.308  \\\\\n\\textbf{Prob(Omnibus):} &   0.000 & \\textbf{  Jarque-Bera (JB):  } & 8794.363  \\\\\n\\textbf{Skew:}          &   0.308 & \\textbf{  Prob(JB):          } &     0.00  \\\\\n\\textbf{Kurtosis:}      &  21.121 & \\textbf{  Cond. No.          } &     46.5  \\\\\n\\bottomrule\n\\end{tabular}\n%\\caption{OLS Regression Results}\n\\end{center}\n\nNotes: \\newline\n [1] Standard Errors assume that the covariance matrix of the errors is correctly specified."
          },
          "metadata": {},
          "execution_count": 12
        }
      ]
    },
    {
      "cell_type": "markdown",
      "source": [
        "Untuk memodelkan hubungan antara konsumsi bahan bakar kota (X) dan emisi CO2 (Y), output dari kode tersebut menunjukkan regresi linear sederhana dengan OLS (Ordinary Least Squares) dari model statistik. Intinya, konsumsi bahan bakar kota (X) sangat berkorelasi positif dengan emisi CO2 (Y), sehingga model ini cukup baik untuk memprediksi."
      ],
      "metadata": {
        "id": "k5yXSSwYv98V"
      }
    },
    {
      "cell_type": "code",
      "source": [
        "print(model)\n",
        "prediksi = model.predict(X)\n",
        "prediksi"
      ],
      "metadata": {
        "id": "I2gZVlmtwBQM",
        "outputId": "11469654-7b46-4064-919a-288e0713061d",
        "colab": {
          "base_uri": "https://localhost:8080/",
          "height": 475
        }
      },
      "execution_count": 13,
      "outputs": [
        {
          "output_type": "stream",
          "name": "stdout",
          "text": [
            "<statsmodels.regression.linear_model.RegressionResultsWrapper object at 0x7830ec1ec610>\n"
          ]
        },
        {
          "output_type": "execute_result",
          "data": {
            "text/plain": [
              "0      178.168794\n",
              "1      193.319386\n",
              "2      234.983513\n",
              "3      263.390873\n",
              "4      286.116761\n",
              "          ...    \n",
              "637    208.469978\n",
              "638    227.408218\n",
              "639    216.045274\n",
              "640    214.151450\n",
              "641    242.558809\n",
              "Length: 642, dtype: float64"
            ],
            "text/html": [
              "<div>\n",
              "<style scoped>\n",
              "    .dataframe tbody tr th:only-of-type {\n",
              "        vertical-align: middle;\n",
              "    }\n",
              "\n",
              "    .dataframe tbody tr th {\n",
              "        vertical-align: top;\n",
              "    }\n",
              "\n",
              "    .dataframe thead th {\n",
              "        text-align: right;\n",
              "    }\n",
              "</style>\n",
              "<table border=\"1\" class=\"dataframe\">\n",
              "  <thead>\n",
              "    <tr style=\"text-align: right;\">\n",
              "      <th></th>\n",
              "      <th>0</th>\n",
              "    </tr>\n",
              "  </thead>\n",
              "  <tbody>\n",
              "    <tr>\n",
              "      <th>0</th>\n",
              "      <td>178.168794</td>\n",
              "    </tr>\n",
              "    <tr>\n",
              "      <th>1</th>\n",
              "      <td>193.319386</td>\n",
              "    </tr>\n",
              "    <tr>\n",
              "      <th>2</th>\n",
              "      <td>234.983513</td>\n",
              "    </tr>\n",
              "    <tr>\n",
              "      <th>3</th>\n",
              "      <td>263.390873</td>\n",
              "    </tr>\n",
              "    <tr>\n",
              "      <th>4</th>\n",
              "      <td>286.116761</td>\n",
              "    </tr>\n",
              "    <tr>\n",
              "      <th>...</th>\n",
              "      <td>...</td>\n",
              "    </tr>\n",
              "    <tr>\n",
              "      <th>637</th>\n",
              "      <td>208.469978</td>\n",
              "    </tr>\n",
              "    <tr>\n",
              "      <th>638</th>\n",
              "      <td>227.408218</td>\n",
              "    </tr>\n",
              "    <tr>\n",
              "      <th>639</th>\n",
              "      <td>216.045274</td>\n",
              "    </tr>\n",
              "    <tr>\n",
              "      <th>640</th>\n",
              "      <td>214.151450</td>\n",
              "    </tr>\n",
              "    <tr>\n",
              "      <th>641</th>\n",
              "      <td>242.558809</td>\n",
              "    </tr>\n",
              "  </tbody>\n",
              "</table>\n",
              "<p>642 rows × 1 columns</p>\n",
              "</div><br><label><b>dtype:</b> float64</label>"
            ]
          },
          "metadata": {},
          "execution_count": 13
        }
      ]
    },
    {
      "cell_type": "markdown",
      "source": [
        "Baris pertama (178.168794) menunjukkan bahwa model dapat digunakan untuk memperkirakan emisi CO2 dari kendaraan berdasarkan konsumsi bahan bakarnya. Ketika konsumsi bahan bakar X = 8.1, model memperkirakan emisi CO2 sekitar 178.17 (hasil yang dibulatkan) g/km. Ini menunjukkan bahwa prediksi ini meningkat seiring dengan peningkatan konsumsi bahan bakar, sesuai dengan hubungan positif antara X dan Y. Temuan ini menunjukkan bahwa model ini dapat digunakan untuk memperkirakan emisi dari kendaraan"
      ],
      "metadata": {
        "id": "wosdeYQRwllQ"
      }
    },
    {
      "cell_type": "markdown",
      "source": [
        "Visualisasi Hasil Prediksi"
      ],
      "metadata": {
        "id": "8AcRnGA6wpH1"
      }
    },
    {
      "cell_type": "code",
      "source": [
        "from sklearn.linear_model import LinearRegression\n",
        "lin_reg = LinearRegression()\n",
        "lin_reg.fit(X, Y)"
      ],
      "metadata": {
        "id": "kvTX4_RYws7Z",
        "outputId": "d2daac5d-36c6-4923-ccb3-a7019314d5ae",
        "colab": {
          "base_uri": "https://localhost:8080/",
          "height": 57
        }
      },
      "execution_count": 14,
      "outputs": [
        {
          "output_type": "execute_result",
          "data": {
            "text/plain": [
              "LinearRegression()"
            ],
            "text/html": [
              "<style>#sk-container-id-1 {\n",
              "  /* Definition of color scheme common for light and dark mode */\n",
              "  --sklearn-color-text: #000;\n",
              "  --sklearn-color-text-muted: #666;\n",
              "  --sklearn-color-line: gray;\n",
              "  /* Definition of color scheme for unfitted estimators */\n",
              "  --sklearn-color-unfitted-level-0: #fff5e6;\n",
              "  --sklearn-color-unfitted-level-1: #f6e4d2;\n",
              "  --sklearn-color-unfitted-level-2: #ffe0b3;\n",
              "  --sklearn-color-unfitted-level-3: chocolate;\n",
              "  /* Definition of color scheme for fitted estimators */\n",
              "  --sklearn-color-fitted-level-0: #f0f8ff;\n",
              "  --sklearn-color-fitted-level-1: #d4ebff;\n",
              "  --sklearn-color-fitted-level-2: #b3dbfd;\n",
              "  --sklearn-color-fitted-level-3: cornflowerblue;\n",
              "\n",
              "  /* Specific color for light theme */\n",
              "  --sklearn-color-text-on-default-background: var(--sg-text-color, var(--theme-code-foreground, var(--jp-content-font-color1, black)));\n",
              "  --sklearn-color-background: var(--sg-background-color, var(--theme-background, var(--jp-layout-color0, white)));\n",
              "  --sklearn-color-border-box: var(--sg-text-color, var(--theme-code-foreground, var(--jp-content-font-color1, black)));\n",
              "  --sklearn-color-icon: #696969;\n",
              "\n",
              "  @media (prefers-color-scheme: dark) {\n",
              "    /* Redefinition of color scheme for dark theme */\n",
              "    --sklearn-color-text-on-default-background: var(--sg-text-color, var(--theme-code-foreground, var(--jp-content-font-color1, white)));\n",
              "    --sklearn-color-background: var(--sg-background-color, var(--theme-background, var(--jp-layout-color0, #111)));\n",
              "    --sklearn-color-border-box: var(--sg-text-color, var(--theme-code-foreground, var(--jp-content-font-color1, white)));\n",
              "    --sklearn-color-icon: #878787;\n",
              "  }\n",
              "}\n",
              "\n",
              "#sk-container-id-1 {\n",
              "  color: var(--sklearn-color-text);\n",
              "}\n",
              "\n",
              "#sk-container-id-1 pre {\n",
              "  padding: 0;\n",
              "}\n",
              "\n",
              "#sk-container-id-1 input.sk-hidden--visually {\n",
              "  border: 0;\n",
              "  clip: rect(1px 1px 1px 1px);\n",
              "  clip: rect(1px, 1px, 1px, 1px);\n",
              "  height: 1px;\n",
              "  margin: -1px;\n",
              "  overflow: hidden;\n",
              "  padding: 0;\n",
              "  position: absolute;\n",
              "  width: 1px;\n",
              "}\n",
              "\n",
              "#sk-container-id-1 div.sk-dashed-wrapped {\n",
              "  border: 1px dashed var(--sklearn-color-line);\n",
              "  margin: 0 0.4em 0.5em 0.4em;\n",
              "  box-sizing: border-box;\n",
              "  padding-bottom: 0.4em;\n",
              "  background-color: var(--sklearn-color-background);\n",
              "}\n",
              "\n",
              "#sk-container-id-1 div.sk-container {\n",
              "  /* jupyter's `normalize.less` sets `[hidden] { display: none; }`\n",
              "     but bootstrap.min.css set `[hidden] { display: none !important; }`\n",
              "     so we also need the `!important` here to be able to override the\n",
              "     default hidden behavior on the sphinx rendered scikit-learn.org.\n",
              "     See: https://github.com/scikit-learn/scikit-learn/issues/21755 */\n",
              "  display: inline-block !important;\n",
              "  position: relative;\n",
              "}\n",
              "\n",
              "#sk-container-id-1 div.sk-text-repr-fallback {\n",
              "  display: none;\n",
              "}\n",
              "\n",
              "div.sk-parallel-item,\n",
              "div.sk-serial,\n",
              "div.sk-item {\n",
              "  /* draw centered vertical line to link estimators */\n",
              "  background-image: linear-gradient(var(--sklearn-color-text-on-default-background), var(--sklearn-color-text-on-default-background));\n",
              "  background-size: 2px 100%;\n",
              "  background-repeat: no-repeat;\n",
              "  background-position: center center;\n",
              "}\n",
              "\n",
              "/* Parallel-specific style estimator block */\n",
              "\n",
              "#sk-container-id-1 div.sk-parallel-item::after {\n",
              "  content: \"\";\n",
              "  width: 100%;\n",
              "  border-bottom: 2px solid var(--sklearn-color-text-on-default-background);\n",
              "  flex-grow: 1;\n",
              "}\n",
              "\n",
              "#sk-container-id-1 div.sk-parallel {\n",
              "  display: flex;\n",
              "  align-items: stretch;\n",
              "  justify-content: center;\n",
              "  background-color: var(--sklearn-color-background);\n",
              "  position: relative;\n",
              "}\n",
              "\n",
              "#sk-container-id-1 div.sk-parallel-item {\n",
              "  display: flex;\n",
              "  flex-direction: column;\n",
              "}\n",
              "\n",
              "#sk-container-id-1 div.sk-parallel-item:first-child::after {\n",
              "  align-self: flex-end;\n",
              "  width: 50%;\n",
              "}\n",
              "\n",
              "#sk-container-id-1 div.sk-parallel-item:last-child::after {\n",
              "  align-self: flex-start;\n",
              "  width: 50%;\n",
              "}\n",
              "\n",
              "#sk-container-id-1 div.sk-parallel-item:only-child::after {\n",
              "  width: 0;\n",
              "}\n",
              "\n",
              "/* Serial-specific style estimator block */\n",
              "\n",
              "#sk-container-id-1 div.sk-serial {\n",
              "  display: flex;\n",
              "  flex-direction: column;\n",
              "  align-items: center;\n",
              "  background-color: var(--sklearn-color-background);\n",
              "  padding-right: 1em;\n",
              "  padding-left: 1em;\n",
              "}\n",
              "\n",
              "\n",
              "/* Toggleable style: style used for estimator/Pipeline/ColumnTransformer box that is\n",
              "clickable and can be expanded/collapsed.\n",
              "- Pipeline and ColumnTransformer use this feature and define the default style\n",
              "- Estimators will overwrite some part of the style using the `sk-estimator` class\n",
              "*/\n",
              "\n",
              "/* Pipeline and ColumnTransformer style (default) */\n",
              "\n",
              "#sk-container-id-1 div.sk-toggleable {\n",
              "  /* Default theme specific background. It is overwritten whether we have a\n",
              "  specific estimator or a Pipeline/ColumnTransformer */\n",
              "  background-color: var(--sklearn-color-background);\n",
              "}\n",
              "\n",
              "/* Toggleable label */\n",
              "#sk-container-id-1 label.sk-toggleable__label {\n",
              "  cursor: pointer;\n",
              "  display: flex;\n",
              "  width: 100%;\n",
              "  margin-bottom: 0;\n",
              "  padding: 0.5em;\n",
              "  box-sizing: border-box;\n",
              "  text-align: center;\n",
              "  align-items: start;\n",
              "  justify-content: space-between;\n",
              "  gap: 0.5em;\n",
              "}\n",
              "\n",
              "#sk-container-id-1 label.sk-toggleable__label .caption {\n",
              "  font-size: 0.6rem;\n",
              "  font-weight: lighter;\n",
              "  color: var(--sklearn-color-text-muted);\n",
              "}\n",
              "\n",
              "#sk-container-id-1 label.sk-toggleable__label-arrow:before {\n",
              "  /* Arrow on the left of the label */\n",
              "  content: \"▸\";\n",
              "  float: left;\n",
              "  margin-right: 0.25em;\n",
              "  color: var(--sklearn-color-icon);\n",
              "}\n",
              "\n",
              "#sk-container-id-1 label.sk-toggleable__label-arrow:hover:before {\n",
              "  color: var(--sklearn-color-text);\n",
              "}\n",
              "\n",
              "/* Toggleable content - dropdown */\n",
              "\n",
              "#sk-container-id-1 div.sk-toggleable__content {\n",
              "  max-height: 0;\n",
              "  max-width: 0;\n",
              "  overflow: hidden;\n",
              "  text-align: left;\n",
              "  /* unfitted */\n",
              "  background-color: var(--sklearn-color-unfitted-level-0);\n",
              "}\n",
              "\n",
              "#sk-container-id-1 div.sk-toggleable__content.fitted {\n",
              "  /* fitted */\n",
              "  background-color: var(--sklearn-color-fitted-level-0);\n",
              "}\n",
              "\n",
              "#sk-container-id-1 div.sk-toggleable__content pre {\n",
              "  margin: 0.2em;\n",
              "  border-radius: 0.25em;\n",
              "  color: var(--sklearn-color-text);\n",
              "  /* unfitted */\n",
              "  background-color: var(--sklearn-color-unfitted-level-0);\n",
              "}\n",
              "\n",
              "#sk-container-id-1 div.sk-toggleable__content.fitted pre {\n",
              "  /* unfitted */\n",
              "  background-color: var(--sklearn-color-fitted-level-0);\n",
              "}\n",
              "\n",
              "#sk-container-id-1 input.sk-toggleable__control:checked~div.sk-toggleable__content {\n",
              "  /* Expand drop-down */\n",
              "  max-height: 200px;\n",
              "  max-width: 100%;\n",
              "  overflow: auto;\n",
              "}\n",
              "\n",
              "#sk-container-id-1 input.sk-toggleable__control:checked~label.sk-toggleable__label-arrow:before {\n",
              "  content: \"▾\";\n",
              "}\n",
              "\n",
              "/* Pipeline/ColumnTransformer-specific style */\n",
              "\n",
              "#sk-container-id-1 div.sk-label input.sk-toggleable__control:checked~label.sk-toggleable__label {\n",
              "  color: var(--sklearn-color-text);\n",
              "  background-color: var(--sklearn-color-unfitted-level-2);\n",
              "}\n",
              "\n",
              "#sk-container-id-1 div.sk-label.fitted input.sk-toggleable__control:checked~label.sk-toggleable__label {\n",
              "  background-color: var(--sklearn-color-fitted-level-2);\n",
              "}\n",
              "\n",
              "/* Estimator-specific style */\n",
              "\n",
              "/* Colorize estimator box */\n",
              "#sk-container-id-1 div.sk-estimator input.sk-toggleable__control:checked~label.sk-toggleable__label {\n",
              "  /* unfitted */\n",
              "  background-color: var(--sklearn-color-unfitted-level-2);\n",
              "}\n",
              "\n",
              "#sk-container-id-1 div.sk-estimator.fitted input.sk-toggleable__control:checked~label.sk-toggleable__label {\n",
              "  /* fitted */\n",
              "  background-color: var(--sklearn-color-fitted-level-2);\n",
              "}\n",
              "\n",
              "#sk-container-id-1 div.sk-label label.sk-toggleable__label,\n",
              "#sk-container-id-1 div.sk-label label {\n",
              "  /* The background is the default theme color */\n",
              "  color: var(--sklearn-color-text-on-default-background);\n",
              "}\n",
              "\n",
              "/* On hover, darken the color of the background */\n",
              "#sk-container-id-1 div.sk-label:hover label.sk-toggleable__label {\n",
              "  color: var(--sklearn-color-text);\n",
              "  background-color: var(--sklearn-color-unfitted-level-2);\n",
              "}\n",
              "\n",
              "/* Label box, darken color on hover, fitted */\n",
              "#sk-container-id-1 div.sk-label.fitted:hover label.sk-toggleable__label.fitted {\n",
              "  color: var(--sklearn-color-text);\n",
              "  background-color: var(--sklearn-color-fitted-level-2);\n",
              "}\n",
              "\n",
              "/* Estimator label */\n",
              "\n",
              "#sk-container-id-1 div.sk-label label {\n",
              "  font-family: monospace;\n",
              "  font-weight: bold;\n",
              "  display: inline-block;\n",
              "  line-height: 1.2em;\n",
              "}\n",
              "\n",
              "#sk-container-id-1 div.sk-label-container {\n",
              "  text-align: center;\n",
              "}\n",
              "\n",
              "/* Estimator-specific */\n",
              "#sk-container-id-1 div.sk-estimator {\n",
              "  font-family: monospace;\n",
              "  border: 1px dotted var(--sklearn-color-border-box);\n",
              "  border-radius: 0.25em;\n",
              "  box-sizing: border-box;\n",
              "  margin-bottom: 0.5em;\n",
              "  /* unfitted */\n",
              "  background-color: var(--sklearn-color-unfitted-level-0);\n",
              "}\n",
              "\n",
              "#sk-container-id-1 div.sk-estimator.fitted {\n",
              "  /* fitted */\n",
              "  background-color: var(--sklearn-color-fitted-level-0);\n",
              "}\n",
              "\n",
              "/* on hover */\n",
              "#sk-container-id-1 div.sk-estimator:hover {\n",
              "  /* unfitted */\n",
              "  background-color: var(--sklearn-color-unfitted-level-2);\n",
              "}\n",
              "\n",
              "#sk-container-id-1 div.sk-estimator.fitted:hover {\n",
              "  /* fitted */\n",
              "  background-color: var(--sklearn-color-fitted-level-2);\n",
              "}\n",
              "\n",
              "/* Specification for estimator info (e.g. \"i\" and \"?\") */\n",
              "\n",
              "/* Common style for \"i\" and \"?\" */\n",
              "\n",
              ".sk-estimator-doc-link,\n",
              "a:link.sk-estimator-doc-link,\n",
              "a:visited.sk-estimator-doc-link {\n",
              "  float: right;\n",
              "  font-size: smaller;\n",
              "  line-height: 1em;\n",
              "  font-family: monospace;\n",
              "  background-color: var(--sklearn-color-background);\n",
              "  border-radius: 1em;\n",
              "  height: 1em;\n",
              "  width: 1em;\n",
              "  text-decoration: none !important;\n",
              "  margin-left: 0.5em;\n",
              "  text-align: center;\n",
              "  /* unfitted */\n",
              "  border: var(--sklearn-color-unfitted-level-1) 1pt solid;\n",
              "  color: var(--sklearn-color-unfitted-level-1);\n",
              "}\n",
              "\n",
              ".sk-estimator-doc-link.fitted,\n",
              "a:link.sk-estimator-doc-link.fitted,\n",
              "a:visited.sk-estimator-doc-link.fitted {\n",
              "  /* fitted */\n",
              "  border: var(--sklearn-color-fitted-level-1) 1pt solid;\n",
              "  color: var(--sklearn-color-fitted-level-1);\n",
              "}\n",
              "\n",
              "/* On hover */\n",
              "div.sk-estimator:hover .sk-estimator-doc-link:hover,\n",
              ".sk-estimator-doc-link:hover,\n",
              "div.sk-label-container:hover .sk-estimator-doc-link:hover,\n",
              ".sk-estimator-doc-link:hover {\n",
              "  /* unfitted */\n",
              "  background-color: var(--sklearn-color-unfitted-level-3);\n",
              "  color: var(--sklearn-color-background);\n",
              "  text-decoration: none;\n",
              "}\n",
              "\n",
              "div.sk-estimator.fitted:hover .sk-estimator-doc-link.fitted:hover,\n",
              ".sk-estimator-doc-link.fitted:hover,\n",
              "div.sk-label-container:hover .sk-estimator-doc-link.fitted:hover,\n",
              ".sk-estimator-doc-link.fitted:hover {\n",
              "  /* fitted */\n",
              "  background-color: var(--sklearn-color-fitted-level-3);\n",
              "  color: var(--sklearn-color-background);\n",
              "  text-decoration: none;\n",
              "}\n",
              "\n",
              "/* Span, style for the box shown on hovering the info icon */\n",
              ".sk-estimator-doc-link span {\n",
              "  display: none;\n",
              "  z-index: 9999;\n",
              "  position: relative;\n",
              "  font-weight: normal;\n",
              "  right: .2ex;\n",
              "  padding: .5ex;\n",
              "  margin: .5ex;\n",
              "  width: min-content;\n",
              "  min-width: 20ex;\n",
              "  max-width: 50ex;\n",
              "  color: var(--sklearn-color-text);\n",
              "  box-shadow: 2pt 2pt 4pt #999;\n",
              "  /* unfitted */\n",
              "  background: var(--sklearn-color-unfitted-level-0);\n",
              "  border: .5pt solid var(--sklearn-color-unfitted-level-3);\n",
              "}\n",
              "\n",
              ".sk-estimator-doc-link.fitted span {\n",
              "  /* fitted */\n",
              "  background: var(--sklearn-color-fitted-level-0);\n",
              "  border: var(--sklearn-color-fitted-level-3);\n",
              "}\n",
              "\n",
              ".sk-estimator-doc-link:hover span {\n",
              "  display: block;\n",
              "}\n",
              "\n",
              "/* \"?\"-specific style due to the `<a>` HTML tag */\n",
              "\n",
              "#sk-container-id-1 a.estimator_doc_link {\n",
              "  float: right;\n",
              "  font-size: 1rem;\n",
              "  line-height: 1em;\n",
              "  font-family: monospace;\n",
              "  background-color: var(--sklearn-color-background);\n",
              "  border-radius: 1rem;\n",
              "  height: 1rem;\n",
              "  width: 1rem;\n",
              "  text-decoration: none;\n",
              "  /* unfitted */\n",
              "  color: var(--sklearn-color-unfitted-level-1);\n",
              "  border: var(--sklearn-color-unfitted-level-1) 1pt solid;\n",
              "}\n",
              "\n",
              "#sk-container-id-1 a.estimator_doc_link.fitted {\n",
              "  /* fitted */\n",
              "  border: var(--sklearn-color-fitted-level-1) 1pt solid;\n",
              "  color: var(--sklearn-color-fitted-level-1);\n",
              "}\n",
              "\n",
              "/* On hover */\n",
              "#sk-container-id-1 a.estimator_doc_link:hover {\n",
              "  /* unfitted */\n",
              "  background-color: var(--sklearn-color-unfitted-level-3);\n",
              "  color: var(--sklearn-color-background);\n",
              "  text-decoration: none;\n",
              "}\n",
              "\n",
              "#sk-container-id-1 a.estimator_doc_link.fitted:hover {\n",
              "  /* fitted */\n",
              "  background-color: var(--sklearn-color-fitted-level-3);\n",
              "}\n",
              "</style><div id=\"sk-container-id-1\" class=\"sk-top-container\"><div class=\"sk-text-repr-fallback\"><pre>LinearRegression()</pre><b>In a Jupyter environment, please rerun this cell to show the HTML representation or trust the notebook. <br />On GitHub, the HTML representation is unable to render, please try loading this page with nbviewer.org.</b></div><div class=\"sk-container\" hidden><div class=\"sk-item\"><div class=\"sk-estimator fitted sk-toggleable\"><input class=\"sk-toggleable__control sk-hidden--visually\" id=\"sk-estimator-id-1\" type=\"checkbox\" checked><label for=\"sk-estimator-id-1\" class=\"sk-toggleable__label fitted sk-toggleable__label-arrow\"><div><div>LinearRegression</div></div><div><a class=\"sk-estimator-doc-link fitted\" rel=\"noreferrer\" target=\"_blank\" href=\"https://scikit-learn.org/1.6/modules/generated/sklearn.linear_model.LinearRegression.html\">?<span>Documentation for LinearRegression</span></a><span class=\"sk-estimator-doc-link fitted\">i<span>Fitted</span></span></div></label><div class=\"sk-toggleable__content fitted\"><pre>LinearRegression()</pre></div> </div></div></div></div>"
            ]
          },
          "metadata": {},
          "execution_count": 14
        }
      ]
    },
    {
      "cell_type": "markdown",
      "source": [
        "**In a Jupyter environment, please rerun this cell to show the HTML representation or trust the notebook.\n",
        "On GitHub, the HTML representation is unable to render, please try loading this page with nbviewer.org.**"
      ],
      "metadata": {
        "id": "f86n_75-xO4G"
      }
    },
    {
      "cell_type": "code",
      "source": [
        "plt.scatter(X.X, Y, color = 'red')\n",
        "plt.plot(X.X, lin_reg.predict(X), color = 'blue')\n",
        "plt.title('Pengaruh Ville (L/100 km) terhadap Emisi CO2 (g/km)')\n",
        "plt.xlabel('Ville (L/100 km)')\n",
        "plt.ylabel('Emisi CO2 (g/km)')\n",
        "plt.show()"
      ],
      "metadata": {
        "id": "AUyuuHz6xiT0",
        "outputId": "94ad253c-9b59-48f6-eb63-9c990ac961e3",
        "colab": {
          "base_uri": "https://localhost:8080/",
          "height": 472
        }
      },
      "execution_count": 15,
      "outputs": [
        {
          "output_type": "display_data",
          "data": {
            "text/plain": [
              "<Figure size 640x480 with 1 Axes>"
            ],
            "image/png": "[encoded data removed]"
          },
          "metadata": {}
        }
      ]
    },
    {
      "cell_type": "markdown",
      "source": [
        "Kode ini membuat visualisasi regresi linear antara konsumsi bahan bakar kota (X) dan emisi CO2 (Y). Data asli dari dataset (scatter plot) diwakili oleh titik merah, sedangkan garis biru adalah model regresi linear yang menunjukkan hubungan antara X dan Y. Oleh karena itu, garis biru yang mengikuti pola titik merah menunjukkan bahwa konsumsi bahan bakar yang lebih besar cenderung meningkatkan emisi CO2."
      ],
      "metadata": {
        "id": "4FIVJHtOxpWc"
      }
    },
    {
      "cell_type": "markdown",
      "source": [
        "# **Evaluasi**"
      ],
      "metadata": {
        "id": "O7n1ahsLxzoF"
      }
    },
    {
      "cell_type": "code",
      "source": [
        "from sklearn.metrics import mean_squared_error, mean_absolute_error, r2_score\n",
        "# Evaluasi model\n",
        "mse = mean_squared_error(Y, prediksi)\n",
        "mae = mean_absolute_error(Y, prediksi)\n",
        "r2 = r2_score(Y, prediksi)\n",
        "\n",
        "# Cetak hasil evaluasi\n",
        "print(f\"Mean Squared Error (MSE): {mse:.4f}\")\n",
        "print(f\"Mean Absolute Error (MAE): {mae:.4f}\")\n",
        "print(f\"R-squared (R²): {r2:.4f}\")"
      ],
      "metadata": {
        "id": "ATVlTcgqx-SL",
        "outputId": "f544e369-4e72-444c-dcc8-4c5b90581262",
        "colab": {
          "base_uri": "https://localhost:8080/"
        }
      },
      "execution_count": 16,
      "outputs": [
        {
          "output_type": "stream",
          "name": "stdout",
          "text": [
            "Mean Squared Error (MSE): 204.1479\n",
            "Mean Absolute Error (MAE): 9.0293\n",
            "R-squared (R²): 0.9518\n"
          ]
        }
      ]
    },
    {
      "cell_type": "markdown",
      "source": [
        "Setelah melakukan evaluasi terhadap model regresi linear menggunakan metrik MSE, MAE, dan R2, ditemukan bahwa selisih antara nilai prediksi dan nilai aktual rata-rata sekitar 9 satuan CO2 g/km (MAE). Meskipun ada sedikit kesalahan, nilai ini relatif kecil dibandingkan dengan skala data, dan R2 mencapai tingkat akurasi 95%."
      ],
      "metadata": {
        "id": "rBMWlhF_yLDo"
      }
    },
    {
      "cell_type": "code",
      "source": [
        "from sklearn.preprocessing import PolynomialFeatures\n",
        "poly_reg = PolynomialFeatures(degree = 2)\n",
        "X_poly = poly_reg.fit_transform(X)\n",
        "lin_reg_2 = LinearRegression()\n",
        "lin_reg_2.fit(X_poly, Y)"
      ],
      "metadata": {
        "id": "D62wZx_rySKb",
        "outputId": "bdac387b-9089-4345-c085-84507a43c3c9",
        "colab": {
          "base_uri": "https://localhost:8080/",
          "height": 57
        }
      },
      "execution_count": 17,
      "outputs": [
        {
          "output_type": "execute_result",
          "data": {
            "text/plain": [
              "LinearRegression()"
            ],
            "text/html": [
              "<style>#sk-container-id-2 {\n",
              "  /* Definition of color scheme common for light and dark mode */\n",
              "  --sklearn-color-text: #000;\n",
              "  --sklearn-color-text-muted: #666;\n",
              "  --sklearn-color-line: gray;\n",
              "  /* Definition of color scheme for unfitted estimators */\n",
              "  --sklearn-color-unfitted-level-0: #fff5e6;\n",
              "  --sklearn-color-unfitted-level-1: #f6e4d2;\n",
              "  --sklearn-color-unfitted-level-2: #ffe0b3;\n",
              "  --sklearn-color-unfitted-level-3: chocolate;\n",
              "  /* Definition of color scheme for fitted estimators */\n",
              "  --sklearn-color-fitted-level-0: #f0f8ff;\n",
              "  --sklearn-color-fitted-level-1: #d4ebff;\n",
              "  --sklearn-color-fitted-level-2: #b3dbfd;\n",
              "  --sklearn-color-fitted-level-3: cornflowerblue;\n",
              "\n",
              "  /* Specific color for light theme */\n",
              "  --sklearn-color-text-on-default-background: var(--sg-text-color, var(--theme-code-foreground, var(--jp-content-font-color1, black)));\n",
              "  --sklearn-color-background: var(--sg-background-color, var(--theme-background, var(--jp-layout-color0, white)));\n",
              "  --sklearn-color-border-box: var(--sg-text-color, var(--theme-code-foreground, var(--jp-content-font-color1, black)));\n",
              "  --sklearn-color-icon: #696969;\n",
              "\n",
              "  @media (prefers-color-scheme: dark) {\n",
              "    /* Redefinition of color scheme for dark theme */\n",
              "    --sklearn-color-text-on-default-background: var(--sg-text-color, var(--theme-code-foreground, var(--jp-content-font-color1, white)));\n",
              "    --sklearn-color-background: var(--sg-background-color, var(--theme-background, var(--jp-layout-color0, #111)));\n",
              "    --sklearn-color-border-box: var(--sg-text-color, var(--theme-code-foreground, var(--jp-content-font-color1, white)));\n",
              "    --sklearn-color-icon: #878787;\n",
              "  }\n",
              "}\n",
              "\n",
              "#sk-container-id-2 {\n",
              "  color: var(--sklearn-color-text);\n",
              "}\n",
              "\n",
              "#sk-container-id-2 pre {\n",
              "  padding: 0;\n",
              "}\n",
              "\n",
              "#sk-container-id-2 input.sk-hidden--visually {\n",
              "  border: 0;\n",
              "  clip: rect(1px 1px 1px 1px);\n",
              "  clip: rect(1px, 1px, 1px, 1px);\n",
              "  height: 1px;\n",
              "  margin: -1px;\n",
              "  overflow: hidden;\n",
              "  padding: 0;\n",
              "  position: absolute;\n",
              "  width: 1px;\n",
              "}\n",
              "\n",
              "#sk-container-id-2 div.sk-dashed-wrapped {\n",
              "  border: 1px dashed var(--sklearn-color-line);\n",
              "  margin: 0 0.4em 0.5em 0.4em;\n",
              "  box-sizing: border-box;\n",
              "  padding-bottom: 0.4em;\n",
              "  background-color: var(--sklearn-color-background);\n",
              "}\n",
              "\n",
              "#sk-container-id-2 div.sk-container {\n",
              "  /* jupyter's `normalize.less` sets `[hidden] { display: none; }`\n",
              "     but bootstrap.min.css set `[hidden] { display: none !important; }`\n",
              "     so we also need the `!important` here to be able to override the\n",
              "     default hidden behavior on the sphinx rendered scikit-learn.org.\n",
              "     See: https://github.com/scikit-learn/scikit-learn/issues/21755 */\n",
              "  display: inline-block !important;\n",
              "  position: relative;\n",
              "}\n",
              "\n",
              "#sk-container-id-2 div.sk-text-repr-fallback {\n",
              "  display: none;\n",
              "}\n",
              "\n",
              "div.sk-parallel-item,\n",
              "div.sk-serial,\n",
              "div.sk-item {\n",
              "  /* draw centered vertical line to link estimators */\n",
              "  background-image: linear-gradient(var(--sklearn-color-text-on-default-background), var(--sklearn-color-text-on-default-background));\n",
              "  background-size: 2px 100%;\n",
              "  background-repeat: no-repeat;\n",
              "  background-position: center center;\n",
              "}\n",
              "\n",
              "/* Parallel-specific style estimator block */\n",
              "\n",
              "#sk-container-id-2 div.sk-parallel-item::after {\n",
              "  content: \"\";\n",
              "  width: 100%;\n",
              "  border-bottom: 2px solid var(--sklearn-color-text-on-default-background);\n",
              "  flex-grow: 1;\n",
              "}\n",
              "\n",
              "#sk-container-id-2 div.sk-parallel {\n",
              "  display: flex;\n",
              "  align-items: stretch;\n",
              "  justify-content: center;\n",
              "  background-color: var(--sklearn-color-background);\n",
              "  position: relative;\n",
              "}\n",
              "\n",
              "#sk-container-id-2 div.sk-parallel-item {\n",
              "  display: flex;\n",
              "  flex-direction: column;\n",
              "}\n",
              "\n",
              "#sk-container-id-2 div.sk-parallel-item:first-child::after {\n",
              "  align-self: flex-end;\n",
              "  width: 50%;\n",
              "}\n",
              "\n",
              "#sk-container-id-2 div.sk-parallel-item:last-child::after {\n",
              "  align-self: flex-start;\n",
              "  width: 50%;\n",
              "}\n",
              "\n",
              "#sk-container-id-2 div.sk-parallel-item:only-child::after {\n",
              "  width: 0;\n",
              "}\n",
              "\n",
              "/* Serial-specific style estimator block */\n",
              "\n",
              "#sk-container-id-2 div.sk-serial {\n",
              "  display: flex;\n",
              "  flex-direction: column;\n",
              "  align-items: center;\n",
              "  background-color: var(--sklearn-color-background);\n",
              "  padding-right: 1em;\n",
              "  padding-left: 1em;\n",
              "}\n",
              "\n",
              "\n",
              "/* Toggleable style: style used for estimator/Pipeline/ColumnTransformer box that is\n",
              "clickable and can be expanded/collapsed.\n",
              "- Pipeline and ColumnTransformer use this feature and define the default style\n",
              "- Estimators will overwrite some part of the style using the `sk-estimator` class\n",
              "*/\n",
              "\n",
              "/* Pipeline and ColumnTransformer style (default) */\n",
              "\n",
              "#sk-container-id-2 div.sk-toggleable {\n",
              "  /* Default theme specific background. It is overwritten whether we have a\n",
              "  specific estimator or a Pipeline/ColumnTransformer */\n",
              "  background-color: var(--sklearn-color-background);\n",
              "}\n",
              "\n",
              "/* Toggleable label */\n",
              "#sk-container-id-2 label.sk-toggleable__label {\n",
              "  cursor: pointer;\n",
              "  display: flex;\n",
              "  width: 100%;\n",
              "  margin-bottom: 0;\n",
              "  padding: 0.5em;\n",
              "  box-sizing: border-box;\n",
              "  text-align: center;\n",
              "  align-items: start;\n",
              "  justify-content: space-between;\n",
              "  gap: 0.5em;\n",
              "}\n",
              "\n",
              "#sk-container-id-2 label.sk-toggleable__label .caption {\n",
              "  font-size: 0.6rem;\n",
              "  font-weight: lighter;\n",
              "  color: var(--sklearn-color-text-muted);\n",
              "}\n",
              "\n",
              "#sk-container-id-2 label.sk-toggleable__label-arrow:before {\n",
              "  /* Arrow on the left of the label */\n",
              "  content: \"▸\";\n",
              "  float: left;\n",
              "  margin-right: 0.25em;\n",
              "  color: var(--sklearn-color-icon);\n",
              "}\n",
              "\n",
              "#sk-container-id-2 label.sk-toggleable__label-arrow:hover:before {\n",
              "  color: var(--sklearn-color-text);\n",
              "}\n",
              "\n",
              "/* Toggleable content - dropdown */\n",
              "\n",
              "#sk-container-id-2 div.sk-toggleable__content {\n",
              "  max-height: 0;\n",
              "  max-width: 0;\n",
              "  overflow: hidden;\n",
              "  text-align: left;\n",
              "  /* unfitted */\n",
              "  background-color: var(--sklearn-color-unfitted-level-0);\n",
              "}\n",
              "\n",
              "#sk-container-id-2 div.sk-toggleable__content.fitted {\n",
              "  /* fitted */\n",
              "  background-color: var(--sklearn-color-fitted-level-0);\n",
              "}\n",
              "\n",
              "#sk-container-id-2 div.sk-toggleable__content pre {\n",
              "  margin: 0.2em;\n",
              "  border-radius: 0.25em;\n",
              "  color: var(--sklearn-color-text);\n",
              "  /* unfitted */\n",
              "  background-color: var(--sklearn-color-unfitted-level-0);\n",
              "}\n",
              "\n",
              "#sk-container-id-2 div.sk-toggleable__content.fitted pre {\n",
              "  /* unfitted */\n",
              "  background-color: var(--sklearn-color-fitted-level-0);\n",
              "}\n",
              "\n",
              "#sk-container-id-2 input.sk-toggleable__control:checked~div.sk-toggleable__content {\n",
              "  /* Expand drop-down */\n",
              "  max-height: 200px;\n",
              "  max-width: 100%;\n",
              "  overflow: auto;\n",
              "}\n",
              "\n",
              "#sk-container-id-2 input.sk-toggleable__control:checked~label.sk-toggleable__label-arrow:before {\n",
              "  content: \"▾\";\n",
              "}\n",
              "\n",
              "/* Pipeline/ColumnTransformer-specific style */\n",
              "\n",
              "#sk-container-id-2 div.sk-label input.sk-toggleable__control:checked~label.sk-toggleable__label {\n",
              "  color: var(--sklearn-color-text);\n",
              "  background-color: var(--sklearn-color-unfitted-level-2);\n",
              "}\n",
              "\n",
              "#sk-container-id-2 div.sk-label.fitted input.sk-toggleable__control:checked~label.sk-toggleable__label {\n",
              "  background-color: var(--sklearn-color-fitted-level-2);\n",
              "}\n",
              "\n",
              "/* Estimator-specific style */\n",
              "\n",
              "/* Colorize estimator box */\n",
              "#sk-container-id-2 div.sk-estimator input.sk-toggleable__control:checked~label.sk-toggleable__label {\n",
              "  /* unfitted */\n",
              "  background-color: var(--sklearn-color-unfitted-level-2);\n",
              "}\n",
              "\n",
              "#sk-container-id-2 div.sk-estimator.fitted input.sk-toggleable__control:checked~label.sk-toggleable__label {\n",
              "  /* fitted */\n",
              "  background-color: var(--sklearn-color-fitted-level-2);\n",
              "}\n",
              "\n",
              "#sk-container-id-2 div.sk-label label.sk-toggleable__label,\n",
              "#sk-container-id-2 div.sk-label label {\n",
              "  /* The background is the default theme color */\n",
              "  color: var(--sklearn-color-text-on-default-background);\n",
              "}\n",
              "\n",
              "/* On hover, darken the color of the background */\n",
              "#sk-container-id-2 div.sk-label:hover label.sk-toggleable__label {\n",
              "  color: var(--sklearn-color-text);\n",
              "  background-color: var(--sklearn-color-unfitted-level-2);\n",
              "}\n",
              "\n",
              "/* Label box, darken color on hover, fitted */\n",
              "#sk-container-id-2 div.sk-label.fitted:hover label.sk-toggleable__label.fitted {\n",
              "  color: var(--sklearn-color-text);\n",
              "  background-color: var(--sklearn-color-fitted-level-2);\n",
              "}\n",
              "\n",
              "/* Estimator label */\n",
              "\n",
              "#sk-container-id-2 div.sk-label label {\n",
              "  font-family: monospace;\n",
              "  font-weight: bold;\n",
              "  display: inline-block;\n",
              "  line-height: 1.2em;\n",
              "}\n",
              "\n",
              "#sk-container-id-2 div.sk-label-container {\n",
              "  text-align: center;\n",
              "}\n",
              "\n",
              "/* Estimator-specific */\n",
              "#sk-container-id-2 div.sk-estimator {\n",
              "  font-family: monospace;\n",
              "  border: 1px dotted var(--sklearn-color-border-box);\n",
              "  border-radius: 0.25em;\n",
              "  box-sizing: border-box;\n",
              "  margin-bottom: 0.5em;\n",
              "  /* unfitted */\n",
              "  background-color: var(--sklearn-color-unfitted-level-0);\n",
              "}\n",
              "\n",
              "#sk-container-id-2 div.sk-estimator.fitted {\n",
              "  /* fitted */\n",
              "  background-color: var(--sklearn-color-fitted-level-0);\n",
              "}\n",
              "\n",
              "/* on hover */\n",
              "#sk-container-id-2 div.sk-estimator:hover {\n",
              "  /* unfitted */\n",
              "  background-color: var(--sklearn-color-unfitted-level-2);\n",
              "}\n",
              "\n",
              "#sk-container-id-2 div.sk-estimator.fitted:hover {\n",
              "  /* fitted */\n",
              "  background-color: var(--sklearn-color-fitted-level-2);\n",
              "}\n",
              "\n",
              "/* Specification for estimator info (e.g. \"i\" and \"?\") */\n",
              "\n",
              "/* Common style for \"i\" and \"?\" */\n",
              "\n",
              ".sk-estimator-doc-link,\n",
              "a:link.sk-estimator-doc-link,\n",
              "a:visited.sk-estimator-doc-link {\n",
              "  float: right;\n",
              "  font-size: smaller;\n",
              "  line-height: 1em;\n",
              "  font-family: monospace;\n",
              "  background-color: var(--sklearn-color-background);\n",
              "  border-radius: 1em;\n",
              "  height: 1em;\n",
              "  width: 1em;\n",
              "  text-decoration: none !important;\n",
              "  margin-left: 0.5em;\n",
              "  text-align: center;\n",
              "  /* unfitted */\n",
              "  border: var(--sklearn-color-unfitted-level-1) 1pt solid;\n",
              "  color: var(--sklearn-color-unfitted-level-1);\n",
              "}\n",
              "\n",
              ".sk-estimator-doc-link.fitted,\n",
              "a:link.sk-estimator-doc-link.fitted,\n",
              "a:visited.sk-estimator-doc-link.fitted {\n",
              "  /* fitted */\n",
              "  border: var(--sklearn-color-fitted-level-1) 1pt solid;\n",
              "  color: var(--sklearn-color-fitted-level-1);\n",
              "}\n",
              "\n",
              "/* On hover */\n",
              "div.sk-estimator:hover .sk-estimator-doc-link:hover,\n",
              ".sk-estimator-doc-link:hover,\n",
              "div.sk-label-container:hover .sk-estimator-doc-link:hover,\n",
              ".sk-estimator-doc-link:hover {\n",
              "  /* unfitted */\n",
              "  background-color: var(--sklearn-color-unfitted-level-3);\n",
              "  color: var(--sklearn-color-background);\n",
              "  text-decoration: none;\n",
              "}\n",
              "\n",
              "div.sk-estimator.fitted:hover .sk-estimator-doc-link.fitted:hover,\n",
              ".sk-estimator-doc-link.fitted:hover,\n",
              "div.sk-label-container:hover .sk-estimator-doc-link.fitted:hover,\n",
              ".sk-estimator-doc-link.fitted:hover {\n",
              "  /* fitted */\n",
              "  background-color: var(--sklearn-color-fitted-level-3);\n",
              "  color: var(--sklearn-color-background);\n",
              "  text-decoration: none;\n",
              "}\n",
              "\n",
              "/* Span, style for the box shown on hovering the info icon */\n",
              ".sk-estimator-doc-link span {\n",
              "  display: none;\n",
              "  z-index: 9999;\n",
              "  position: relative;\n",
              "  font-weight: normal;\n",
              "  right: .2ex;\n",
              "  padding: .5ex;\n",
              "  margin: .5ex;\n",
              "  width: min-content;\n",
              "  min-width: 20ex;\n",
              "  max-width: 50ex;\n",
              "  color: var(--sklearn-color-text);\n",
              "  box-shadow: 2pt 2pt 4pt #999;\n",
              "  /* unfitted */\n",
              "  background: var(--sklearn-color-unfitted-level-0);\n",
              "  border: .5pt solid var(--sklearn-color-unfitted-level-3);\n",
              "}\n",
              "\n",
              ".sk-estimator-doc-link.fitted span {\n",
              "  /* fitted */\n",
              "  background: var(--sklearn-color-fitted-level-0);\n",
              "  border: var(--sklearn-color-fitted-level-3);\n",
              "}\n",
              "\n",
              ".sk-estimator-doc-link:hover span {\n",
              "  display: block;\n",
              "}\n",
              "\n",
              "/* \"?\"-specific style due to the `<a>` HTML tag */\n",
              "\n",
              "#sk-container-id-2 a.estimator_doc_link {\n",
              "  float: right;\n",
              "  font-size: 1rem;\n",
              "  line-height: 1em;\n",
              "  font-family: monospace;\n",
              "  background-color: var(--sklearn-color-background);\n",
              "  border-radius: 1rem;\n",
              "  height: 1rem;\n",
              "  width: 1rem;\n",
              "  text-decoration: none;\n",
              "  /* unfitted */\n",
              "  color: var(--sklearn-color-unfitted-level-1);\n",
              "  border: var(--sklearn-color-unfitted-level-1) 1pt solid;\n",
              "}\n",
              "\n",
              "#sk-container-id-2 a.estimator_doc_link.fitted {\n",
              "  /* fitted */\n",
              "  border: var(--sklearn-color-fitted-level-1) 1pt solid;\n",
              "  color: var(--sklearn-color-fitted-level-1);\n",
              "}\n",
              "\n",
              "/* On hover */\n",
              "#sk-container-id-2 a.estimator_doc_link:hover {\n",
              "  /* unfitted */\n",
              "  background-color: var(--sklearn-color-unfitted-level-3);\n",
              "  color: var(--sklearn-color-background);\n",
              "  text-decoration: none;\n",
              "}\n",
              "\n",
              "#sk-container-id-2 a.estimator_doc_link.fitted:hover {\n",
              "  /* fitted */\n",
              "  background-color: var(--sklearn-color-fitted-level-3);\n",
              "}\n",
              "</style><div id=\"sk-container-id-2\" class=\"sk-top-container\"><div class=\"sk-text-repr-fallback\"><pre>LinearRegression()</pre><b>In a Jupyter environment, please rerun this cell to show the HTML representation or trust the notebook. <br />On GitHub, the HTML representation is unable to render, please try loading this page with nbviewer.org.</b></div><div class=\"sk-container\" hidden><div class=\"sk-item\"><div class=\"sk-estimator fitted sk-toggleable\"><input class=\"sk-toggleable__control sk-hidden--visually\" id=\"sk-estimator-id-2\" type=\"checkbox\" checked><label for=\"sk-estimator-id-2\" class=\"sk-toggleable__label fitted sk-toggleable__label-arrow\"><div><div>LinearRegression</div></div><div><a class=\"sk-estimator-doc-link fitted\" rel=\"noreferrer\" target=\"_blank\" href=\"https://scikit-learn.org/1.6/modules/generated/sklearn.linear_model.LinearRegression.html\">?<span>Documentation for LinearRegression</span></a><span class=\"sk-estimator-doc-link fitted\">i<span>Fitted</span></span></div></label><div class=\"sk-toggleable__content fitted\"><pre>LinearRegression()</pre></div> </div></div></div></div>"
            ]
          },
          "metadata": {},
          "execution_count": 17
        }
      ]
    },
    {
      "cell_type": "markdown",
      "source": [
        "**In a Jupyter environment, please rerun this cell to show the HTML representation or trust the notebook.\n",
        "On GitHub, the HTML representation is unable to render, please try loading this page with nbviewer.org.**"
      ],
      "metadata": {
        "id": "BZG6FeZvyYN2"
      }
    },
    {
      "cell_type": "code",
      "source": [
        "plt.scatter(X.X, Y, color = 'red')\n",
        "plt.plot(X.X, lin_reg_2.predict(poly_reg.fit_transform(X)), color = 'blue')\n",
        "plt.title('Pengaruh Ville (L/100 km) terhadap Emisi CO2 (g/km)')\n",
        "plt.xlabel('Ville (L/100 km)')\n",
        "plt.ylabel('Emisi CO2 (g/km)')\n",
        "plt.show()"
      ],
      "metadata": {
        "id": "H0ghfq_WyeS3",
        "outputId": "0f9668fc-fbf6-4b75-e8d8-6ee9bd3b9d1e",
        "colab": {
          "base_uri": "https://localhost:8080/",
          "height": 472
        }
      },
      "execution_count": 18,
      "outputs": [
        {
          "output_type": "display_data",
          "data": {
            "text/plain": [
              "<Figure size 640x480 with 1 Axes>"
            ],
            "image/png": "[encoded data removed]"
          },
          "metadata": {}
        }
      ]
    },
    {
      "cell_type": "markdown",
      "source": [
        "Untuk melihat hubungan antara konsumsi bahan bakar kota (X) dan emisi CO2 (Y), kode ini menggunakan regresi polinomial. Di sini, titik merah menunjukkan data asli dari dataset (scatter plot), dan garis biru menunjukkan hasil regresi polinomial yang lebih fleksibel daripada regresi linear."
      ],
      "metadata": {
        "id": "Qib076vKy6cC"
      }
    },
    {
      "cell_type": "code",
      "source": [
        "Y_poly = lin_reg_2.predict(X_poly)\n",
        "Y_poly"
      ],
      "metadata": {
        "id": "_b4ZCPMxy9cd",
        "outputId": "0c0d3250-a94a-4033-96ea-722cf47b43a9",
        "colab": {
          "base_uri": "https://localhost:8080/"
        }
      },
      "execution_count": 19,
      "outputs": [
        {
          "output_type": "execute_result",
          "data": {
            "text/plain": [
              "array([177.55649707, 193.16562068, 235.63198483, 264.20057737,\n",
              "       286.83025876, 233.71629137, 239.45920152, 239.45920152,\n",
              "       258.51188027, 214.48290248, 224.1169729 , 229.88073422,\n",
              "       239.45920152, 325.95053915, 322.25120965, 314.8358697 ,\n",
              "       206.75062473, 216.41249672, 220.26751497, 216.41249672,\n",
              "       224.1169729 , 216.41249672, 214.48290248, 231.79920784,\n",
              "       231.79920784, 231.79920784, 264.20057737, 227.96087052,\n",
              "       247.09695396, 216.41249672, 226.03961675, 226.03961675,\n",
              "       252.81067247, 271.76604575, 249.00291687, 269.87676378,\n",
              "       277.42555122, 346.19746086, 346.19746086, 346.19746086,\n",
              "       329.64430835, 222.19293897, 233.71629137, 233.71629137,\n",
              "       258.51188027, 249.00291687, 260.40950272, 260.40950272,\n",
              "       327.79811879, 264.20057737, 264.20057737, 327.79811879,\n",
              "       329.64430835, 348.02974964, 348.02974964, 204.8140801 ,\n",
              "       193.16562068, 206.75062473, 189.27168024, 189.27168024,\n",
              "       277.42555122, 312.97855952, 298.07003524, 303.67115743,\n",
              "       220.26751497, 303.67115743, 299.93846605, 307.3982885 ,\n",
              "       195.11050578, 303.67115743, 299.93846605, 307.3982885 ,\n",
              "       303.67115743, 309.25976892, 198.99610574, 193.16562068,\n",
              "       329.64430835, 329.64430835, 329.64430835, 294.3290034 ,\n",
              "       292.45640236, 294.3290034 , 208.68577929, 216.41249672,\n",
              "       208.68577929, 220.26751497, 191.2193455 , 200.93682061,\n",
              "       235.63198483, 322.25120965, 322.25120965, 231.79920784,\n",
              "       216.41249672, 368.09318104, 286.83025876, 220.26751497,\n",
              "       368.09318104, 286.83025876, 245.18960097, 303.67115743,\n",
              "       202.87614539, 222.19293897, 264.20057737, 465.88734642,\n",
              "       258.51188027, 175.59910127, 197.0540008 , 229.88073422,\n",
              "       183.42034401, 226.03961675, 233.71629137, 233.71629137,\n",
              "       239.45920152, 249.00291687, 309.25976892, 312.97855952,\n",
              "       252.81067247, 222.19293897, 258.51188027, 233.71629137,\n",
              "       273.65393765, 273.65393765, 373.53583433, 377.15731947,\n",
              "       286.83025876, 338.85440497, 414.84720955, 222.19293897,\n",
              "       231.79920784, 237.54628822, 269.87676378, 237.54628822,\n",
              "       273.65393765, 229.88073422, 267.98609172, 260.40950272,\n",
              "       283.07254598, 290.58241124, 292.45640236, 305.535418  ,\n",
              "       309.25976892, 312.97855952, 400.56144024, 400.56144024,\n",
              "       198.99610574, 214.48290248, 185.3721795 , 279.30927288,\n",
              "       214.48290248, 305.535418  , 284.95209741, 303.67115743,\n",
              "       227.96087052, 226.03961675, 235.63198483, 312.97855952,\n",
              "       312.97855952, 423.73063783, 320.39945978, 324.10156944,\n",
              "       348.02974964, 247.09695396, 348.02974964, 322.25120965,\n",
              "       243.2808579 , 348.02974964, 338.85440497, 322.25120965,\n",
              "       243.2808579 , 325.95053915, 338.85440497, 171.68013943,\n",
              "       227.96087052, 177.55649707, 197.0540008 , 258.51188027,\n",
              "       185.3721795 , 260.40950272, 260.40950272, 292.45640236,\n",
              "       281.19160447, 340.69225406, 409.50047165, 239.45920152,\n",
              "       393.38519372, 393.38519372, 398.76946373, 436.10905415,\n",
              "       288.70703004, 269.87676378, 269.87676378, 284.95209741,\n",
              "       286.83025876, 290.58241124, 288.70703004, 262.30573509,\n",
              "       286.83025876, 286.83025876, 200.93682061, 237.54628822,\n",
              "       218.34070088, 193.16562068, 198.99610574, 218.34070088,\n",
              "       128.20457862, 128.20457862, 316.6917898 , 250.90748971,\n",
              "       271.76604575, 277.42555122, 267.98609172, 294.3290034 ,\n",
              "       299.93846605, 273.65393765, 299.93846605, 305.535418  ,\n",
              "       237.54628822, 296.20021436, 312.97855952, 338.85440497,\n",
              "       450.17241096, 226.03961675, 237.54628822, 237.54628822,\n",
              "       128.20457862, 229.88073422, 322.25120965, 329.64430835,\n",
              "       337.0151658 , 349.86064834, 462.40486908, 256.61286775,\n",
              "       266.09402959, 307.3982885 , 247.09695396, 296.20021436,\n",
              "       245.18960097, 320.39945978, 283.07254598, 249.00291687,\n",
              "       269.87676378, 273.65393765, 262.30573509, 298.07003524,\n",
              "       258.51188027, 260.40950272, 283.07254598, 292.45640236,\n",
              "       305.535418  , 279.30927288, 214.48290248, 307.3982885 ,\n",
              "       292.45640236, 294.3290034 , 303.67115743, 226.03961675,\n",
              "       235.63198483, 316.6917898 , 312.97855952, 423.73063783,\n",
              "       322.25120965, 327.79811879, 348.02974964, 256.61286775,\n",
              "       348.02974964, 198.99610574, 214.48290248, 322.25120965,\n",
              "       243.2808579 , 325.95053915, 338.85440497, 322.25120965,\n",
              "       243.2808579 , 348.02974964, 338.85440497, 177.55649707,\n",
              "       116.23084093, 169.7185734 , 112.22847441, 163.82553482,\n",
              "       167.75561728, 110.22520603, 189.27168024, 229.88073422,\n",
              "       183.42034401, 197.0540008 , 136.15926885, 197.0540008 ,\n",
              "       202.87614539, 256.61286775, 262.30573509, 260.40950272,\n",
              "       266.09402959, 275.54043947, 267.98609172, 267.98609172,\n",
              "       181.46711844, 169.7185734 , 161.85840847, 112.22847441,\n",
              "       249.00291687, 233.71629137, 183.42034401, 177.55649707,\n",
              "       206.75062473, 195.11050578, 191.2193455 , 256.61286775,\n",
              "       260.40950272, 267.98609172, 254.71246515, 256.61286775,\n",
              "       152.00192556, 216.41249672, 206.75062473, 212.55191816,\n",
              "       122.22396512, 208.68577929, 150.02645875, 173.64031539,\n",
              "       229.88073422, 222.19293897, 231.79920784, 311.11985925,\n",
              "       229.88073422, 264.20057737, 322.25120965, 212.55191816,\n",
              "       284.95209741, 258.51188027, 271.76604575, 333.33251723,\n",
              "       333.33251723, 299.93846605, 299.93846605, 245.18960097,\n",
              "       288.70703004, 250.90748971, 296.20021436, 269.87676378,\n",
              "       153.9760023 , 198.99610574, 183.42034401, 173.64031539,\n",
              "       106.21449904, 106.21449904, 181.46711844, 208.68577929,\n",
              "       191.2193455 , 243.2808579 , 218.34070088, 155.94868896,\n",
              "       185.3721795 , 200.93682061, 216.41249672, 138.14446621,\n",
              "       273.65393765, 273.65393765, 275.54043947, 256.61286775,\n",
              "       283.07254598, 266.09402959, 299.93846605, 312.97855952,\n",
              "       312.97855952, 312.97855952, 299.93846605, 309.25976892,\n",
              "       250.90748971, 231.79920784, 254.71246515, 264.20057737,\n",
              "       206.75062473, 126.21243086, 227.96087052, 231.79920784,\n",
              "       314.8358697 , 256.61286775, 256.61286775, 292.45640236,\n",
              "       312.97855952, 327.79811879, 195.11050578, 286.83025876,\n",
              "       216.41249672, 294.3290034 , 262.30573509, 202.87614539,\n",
              "       231.79920784, 237.54628822, 130.19533629, 256.61286775,\n",
              "       256.61286775, 298.07003524, 237.54628822, 142.1106907 ,\n",
              "       189.27168024, 243.2808579 , 189.27168024, 122.22396512,\n",
              "       122.22396512, 286.83025876, 237.54628822, 237.54628822,\n",
              "       173.64031539, 320.39945978, 195.11050578, 224.1169729 ,\n",
              "       218.34070088, 197.0540008 , 229.88073422, 208.68577929,\n",
              "       222.19293897, 138.14446621, 212.55191816, 220.26751497,\n",
              "       212.55191816, 220.26751497, 183.42034401, 193.16562068,\n",
              "       216.41249672, 185.3721795 , 195.11050578, 195.11050578,\n",
              "       216.41249672, 195.11050578, 195.11050578, 262.30573509,\n",
              "       229.88073422, 247.09695396, 254.71246515, 247.09695396,\n",
              "       353.5182755 , 231.79920784, 243.2808579 , 264.20057737,\n",
              "       266.09402959, 269.87676378, 275.54043947, 349.86064834,\n",
              "       349.86064834, 349.86064834, 258.51188027, 395.18134047,\n",
              "       314.8358697 , 395.18134047, 395.18134047, 256.61286775,\n",
              "       368.09318104, 368.09318104, 214.48290248, 200.93682061,\n",
              "       222.19293897, 210.61954376, 218.34070088, 222.19293897,\n",
              "       214.48290248, 229.88073422, 283.07254598, 202.87614539,\n",
              "       210.61954376, 214.48290248, 216.41249672, 256.61286775,\n",
              "       262.30573509, 262.30573509, 266.09402959, 338.85440497,\n",
              "       362.63801705, 301.80550678, 396.97609714, 237.54628822,\n",
              "       292.45640236, 185.3721795 , 185.3721795 , 191.2193455 ,\n",
              "       185.3721795 , 183.42034401, 193.16562068, 210.61954376,\n",
              "       191.2193455 , 195.11050578, 218.34070088, 206.75062473,\n",
              "       208.68577929, 208.68577929, 214.48290248, 220.26751497,\n",
              "       200.93682061, 204.8140801 , 303.67115743, 322.25120965,\n",
              "       279.30927288, 277.42555122, 290.58241124, 177.55649707,\n",
              "       183.42034401, 169.7185734 , 226.03961675, 247.09695396,\n",
              "       250.90748971, 171.68013943, 183.42034401, 161.85840847,\n",
              "       163.82553482, 202.87614539, 204.8140801 , 165.79127109,\n",
              "       187.32262491, 258.51188027, 279.30927288, 292.45640236,\n",
              "       233.71629137, 252.81067247, 256.61286775, 262.30573509,\n",
              "       258.51188027, 290.58241124, 233.71629137, 252.81067247,\n",
              "       256.61286775, 262.30573509, 258.51188027, 290.58241124,\n",
              "       269.87676378, 271.76604575, 342.52871307, 337.0151658 ,\n",
              "       344.363782  , 338.85440497, 340.69225406, 286.83025876,\n",
              "       286.83025876, 314.8358697 , 322.25120965, 318.54631983,\n",
              "       260.40950272, 256.61286775, 286.83025876, 281.19160447,\n",
              "       273.65393765, 273.65393765, 303.67115743, 273.65393765,\n",
              "       250.90748971, 290.58241124, 256.61286775, 322.25120965,\n",
              "       340.69225406, 395.18134047, 395.18134047, 395.18134047,\n",
              "       395.18134047, 395.18134047, 395.18134047, 395.18134047,\n",
              "       258.51188027, 235.63198483, 252.81067247, 191.2193455 ,\n",
              "       193.16562068, 202.87614539, 197.0540008 , 204.8140801 ,\n",
              "       152.00192556, 191.2193455 , 195.11050578, 226.03961675,\n",
              "       198.99610574, 233.71629137, 266.09402959, 260.40950272,\n",
              "       260.40950272, 252.81067247, 220.26751497, 224.1169729 ,\n",
              "       114.23035271, 118.22993907, 122.22396512, 163.82553482,\n",
              "       167.75561728, 165.79127109, 104.20706043, 108.22054758,\n",
              "       116.23084093, 167.75561728, 177.55649707, 120.22764714,\n",
              "       177.55649707, 128.20457862, 136.15926885, 254.71246515,\n",
              "       235.63198483, 218.34070088, 266.09402959, 237.54628822,\n",
              "       252.81067247, 245.18960097, 237.54628822, 148.04960185,\n",
              "       195.11050578, 233.71629137, 150.02645875, 148.04960185,\n",
              "       227.96087052, 112.22847441, 204.8140801 , 191.2193455 ,\n",
              "       189.27168024, 132.18470389, 138.14446621, 264.20057737,\n",
              "       148.04960185, 152.00192556, 262.30573509, 260.40950272,\n",
              "       275.54043947, 224.1169729 , 224.1169729 , 277.42555122,\n",
              "       284.95209741, 281.19160447, 266.09402959, 269.87676378,\n",
              "       266.09402959, 267.98609172, 275.54043947, 266.09402959,\n",
              "       212.55191816, 224.1169729 , 183.42034401, 204.8140801 ,\n",
              "       197.0540008 , 183.42034401, 202.87614539, 200.93682061,\n",
              "       226.03961675, 208.68577929, 227.96087052, 216.41249672,\n",
              "       214.48290248, 243.2808579 ])"
            ]
          },
          "metadata": {},
          "execution_count": 19
        }
      ]
    },
    {
      "cell_type": "markdown",
      "source": [
        "Hasil ini menunjukkan array nilai Y prediksi yang dibangun berdasarkan model regresi polinomial.  Array Y_poly berisi nilai-nilai prediksi untuk variabel dependen, atau emisi CO2, yang didasarkan pada model regresi polinomial. Nilai-nilai dalam array adalah estimasi emisi CO2 yang diprediksi oleh model setelah input X diproses melalui transformasi polinomial.\n",
        "\n"
      ],
      "metadata": {
        "id": "KRVvPM8JzHrg"
      }
    },
    {
      "cell_type": "code",
      "source": [
        "# Evaluasi model\n",
        "mse_poly = mean_squared_error(Y, Y_poly)\n",
        "mae_poly = mean_absolute_error(Y, Y_poly)\n",
        "r2_poly = r2_score(Y, Y_poly)\n",
        "\n",
        "# Cetak hasil evaluasi\n",
        "print(f\"Mean Squared Error (MSE Poly): {mse_poly:.4f}\")\n",
        "print(f\"Mean Absolute Error (MAE Poly): {mae_poly:.4f}\")\n",
        "print(f\"R-squared (R² Poly): {r2_poly:.4f}\")"
      ],
      "metadata": {
        "id": "RIEmoLQPzLuS",
        "outputId": "0e7186ff-db13-42ad-9539-a60bcb17af85",
        "colab": {
          "base_uri": "https://localhost:8080/"
        }
      },
      "execution_count": 20,
      "outputs": [
        {
          "output_type": "stream",
          "name": "stdout",
          "text": [
            "Mean Squared Error (MSE Poly): 202.7943\n",
            "Mean Absolute Error (MAE Poly): 9.0976\n",
            "R-squared (R² Poly): 0.9521\n"
          ]
        }
      ]
    },
    {
      "cell_type": "markdown",
      "source": [
        "Setelah melakukan evaluasi terhadap model regresi polinomial menggunakan metrik MSE, MAE, dan R2, ditemukan bahwa selisih antara nilai prediksi dan nilai aktual rata-rata adalah sekitar 9 satuan CO2 g/km (MAE). Meskipun masih ada kesalahan, nilai ini relatif kecil dibandingkan dengan skala data.  Sementara R2 memiliki akurasi 95%.\n"
      ],
      "metadata": {
        "id": "kSj5_kyIzfZV"
      }
    }
  ],
  "metadata": {
    "colab": {
      "name": "Welcome to Colaboratory",
      "provenance": []
    },
    "kernelspec": {
      "display_name": "Python 3",
      "name": "python3"
    }
  },
  "nbformat": 4,
  "nbformat_minor": 0
}